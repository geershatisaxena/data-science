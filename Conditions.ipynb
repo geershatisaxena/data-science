{
 "cells": [
  {
   "cell_type": "code",
   "execution_count": 1,
   "metadata": {},
   "outputs": [
    {
     "name": "stdout",
     "output_type": "stream",
     "text": [
      "A\n",
      "B\n"
     ]
    }
   ],
   "source": [
    "marks = int(input(\"Enter your marks:\"))\n",
    "if marks>=90:\n",
    "    print(\"A+\")\n",
    "if marks>=75:\n",
    "    print(\"A\")\n",
    "if marks>=60:\n",
    "    print(\"B\")\n",
    "if marks<60:\n",
    "    print(\"Fail\")"
   ]
  },
  {
   "cell_type": "code",
   "execution_count": 2,
   "metadata": {},
   "outputs": [
    {
     "name": "stdout",
     "output_type": "stream",
     "text": [
      "Fail\n"
     ]
    }
   ],
   "source": [
    "marks = int(input(\"Enter your marks:\"))\n",
    "if marks>=90:\n",
    "    print(\"A+\")\n",
    "elif marks>=75:\n",
    "    print(\"A\")\n",
    "elif marks>=60:\n",
    "    print(\"B\")\n",
    "elif marks<60:\n",
    "    print(\"Fail\")\n",
    "else:\n",
    "    print(\"Invalid Input\")"
   ]
  },
  {
   "cell_type": "code",
   "execution_count": 3,
   "metadata": {},
   "outputs": [
    {
     "name": "stdout",
     "output_type": "stream",
     "text": [
      "You are eligible to vote\n"
     ]
    }
   ],
   "source": [
    "age = 20\n",
    "if age>= 18:\n",
    "    print(\"You are eligible to vote\")\n",
    "else:\n",
    "    print(\"You are not eligible to vote\")"
   ]
  },
  {
   "cell_type": "code",
   "execution_count": 4,
   "metadata": {},
   "outputs": [
    {
     "name": "stdout",
     "output_type": "stream",
     "text": [
      "the number is positive\n"
     ]
    }
   ],
   "source": [
    "# to check whether a number is positive or not\n",
    "num = int(input(\"Enter a number:\"))\n",
    "if num >=0:\n",
    "    print(\"the number is positive\")\n",
    "else:\n",
    "    print(\"The number is not a postive number\")"
   ]
  },
  {
   "cell_type": "code",
   "execution_count": 5,
   "metadata": {},
   "outputs": [
    {
     "name": "stdout",
     "output_type": "stream",
     "text": [
      "85  is an odd number\n"
     ]
    }
   ],
   "source": [
    "#to check whether a number is even or odd\n",
    "num = int(input(\"Enter a number:\"))\n",
    "if num%2 ==0: \n",
    "    print(num,\" is an even number\")\n",
    "else:\n",
    "    print(num,\" is an odd number\")"
   ]
  },
  {
   "cell_type": "code",
   "execution_count": 6,
   "metadata": {},
   "outputs": [
    {
     "name": "stdout",
     "output_type": "stream",
     "text": [
      "Isosceles Triangle\n"
     ]
    }
   ],
   "source": [
    "\n",
    "def checkTriangle(x, y, z):\n",
    " \n",
    "    \n",
    "    if x == y == z:\n",
    "        print(\"Equilateral Triangle\")\n",
    " \n",
    "    \n",
    "    elif x == y or y == z or z == x:\n",
    "        print(\"Isosceles Triangle\")\n",
    " \n",
    "    \n",
    "    else:\n",
    "        print(\"Scalene Triangle\")\n",
    " \n",
    " \n",
    "\n",
    "x = 6\n",
    "y = 6\n",
    "z = 9\n",
    "checkTriangle(x, y, z)"
   ]
  },
  {
   "cell_type": "code",
   "execution_count": 7,
   "metadata": {},
   "outputs": [
    {
     "name": "stdout",
     "output_type": "stream",
     "text": [
      "78.53981633974483\n"
     ]
    }
   ],
   "source": [
    "#  calculate an area of a circle\n",
    "import math\n",
    "r = 5 \n",
    "\n",
    "area = math.pi * (r ** 2)\n",
    "print(area)\n"
   ]
  },
  {
   "cell_type": "code",
   "execution_count": 8,
   "metadata": {},
   "outputs": [
    {
     "name": "stdout",
     "output_type": "stream",
     "text": [
      "45 is not a prime number\n"
     ]
    }
   ],
   "source": [
    "# to check whether a number is a prime number\n",
    "\n",
    "num = int(input(\"Enter a number :\"))\n",
    "\n",
    "if num > 1:\n",
    "  \n",
    "    for i in range(2, (num//2)+1):\n",
    "      \n",
    "        if (num % i) == 0:\n",
    "            print(num, \"is not a prime number\")\n",
    "            break\n",
    "    else:\n",
    "        print(num, \"is a prime number\")\n",
    "else:\n",
    "    print(num, \"is not a prime number\")"
   ]
  },
  {
   "cell_type": "markdown",
   "metadata": {},
   "source": [
    "## Nested if"
   ]
  },
  {
   "cell_type": "code",
   "execution_count": 10,
   "metadata": {},
   "outputs": [
    {
     "name": "stdout",
     "output_type": "stream",
     "text": [
      "Registration successfully done\n"
     ]
    }
   ],
   "source": [
    "username = input(\"Enter your username:\")\n",
    "email = input(\"Enter the email:\")\n",
    "password = input(\"Enter the password:\")\n",
    "cpass = input(\"Enter confirm password\")\n",
    "if len(username)>5 and len(username)<=15:\n",
    "    if '@' in email and '.' in email:\n",
    "        if len(password)>=8 and len(password)<=20:\n",
    "          if password == cpass:\n",
    "             print(\"Registration successfully done\")\n",
    "          else: \n",
    "                 print(\"Password and confirm password does not match\")\n",
    "        else:\n",
    "            print(\"Invalid password\")\n",
    "    else:\n",
    "        print(\"Invalid email\")\n",
    "else:\n",
    "    print(\"Invalid Username\")\n"
   ]
  },
  {
   "cell_type": "code",
   "execution_count": null,
   "metadata": {},
   "outputs": [],
   "source": []
  },
  {
   "cell_type": "code",
   "execution_count": null,
   "metadata": {},
   "outputs": [],
   "source": []
  }
 ],
 "metadata": {
  "kernelspec": {
   "display_name": "base",
   "language": "python",
   "name": "python3"
  },
  "language_info": {
   "codemirror_mode": {
    "name": "ipython",
    "version": 3
   },
   "file_extension": ".py",
   "mimetype": "text/x-python",
   "name": "python",
   "nbconvert_exporter": "python",
   "pygments_lexer": "ipython3",
   "version": "3.12.9"
  }
 },
 "nbformat": 4,
 "nbformat_minor": 2
}
