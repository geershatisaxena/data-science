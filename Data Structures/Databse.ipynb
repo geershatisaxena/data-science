{
 "cells": [
  {
   "cell_type": "code",
   "execution_count": 1,
   "id": "f9402109",
   "metadata": {},
   "outputs": [],
   "source": [
    "from sqlalchemy import create_engine, Column, Integer, String\n",
    "from sqlalchemy.orm import declarative_base, sessionmaker"
   ]
  },
  {
   "cell_type": "markdown",
   "id": "25a88281",
   "metadata": {},
   "source": [
    "- create_engine : it is used to make connection from database.\n",
    "- column : it defines columns in the databse.\n",
    "- integer and string : datatype of values in database.\n"
   ]
  },
  {
   "cell_type": "code",
   "execution_count": 2,
   "id": "70fc26ad",
   "metadata": {},
   "outputs": [],
   "source": [
    "engine = create_engine('sqlite:///user.db')\n"
   ]
  },
  {
   "cell_type": "code",
   "execution_count": 3,
   "id": "e425dc21",
   "metadata": {},
   "outputs": [],
   "source": [
    "Base = declarative_base()"
   ]
  },
  {
   "cell_type": "code",
   "execution_count": 4,
   "id": "e0239d0b",
   "metadata": {},
   "outputs": [],
   "source": [
    "class User(Base):\n",
    "    \n",
    "    __tablename__ = 'users'\n",
    "    id = Column(Integer, primary_key=True)\n",
    "    name = Column(String)\n",
    "    password = Column(String)"
   ]
  },
  {
   "cell_type": "code",
   "execution_count": 5,
   "id": "0dab9ed5",
   "metadata": {},
   "outputs": [],
   "source": [
    "Base.metadata.create_all(engine)"
   ]
  },
  {
   "cell_type": "code",
   "execution_count": null,
   "id": "82ec7d0f",
   "metadata": {},
   "outputs": [],
   "source": []
  },
  {
   "cell_type": "code",
   "execution_count": 6,
   "id": "52c35027",
   "metadata": {},
   "outputs": [],
   "source": [
    "# add a new user to the database\n",
    "Session = sessionmaker(bind=engine)\n",
    "session = Session()"
   ]
  },
  {
   "cell_type": "code",
   "execution_count": 7,
   "id": "024d531e",
   "metadata": {},
   "outputs": [],
   "source": [
    "# add a new user to the database\n",
    "new_user = User(name='John Doe', password='password123')\n",
    "session.add(new_user)\n",
    "session.commit()"
   ]
  },
  {
   "cell_type": "code",
   "execution_count": 8,
   "id": "680ab647",
   "metadata": {},
   "outputs": [],
   "source": [
    "new_user = User(name='Peter Parker', password='password189')\n",
    "session.add(new_user)\n",
    "session.commit()"
   ]
  },
  {
   "cell_type": "code",
   "execution_count": 9,
   "id": "d47ab2b4",
   "metadata": {},
   "outputs": [
    {
     "name": "stdout",
     "output_type": "stream",
     "text": [
      "ID: 2, Name: John Doe, Password: password123\n",
      "ID: 3, Name: Peter, Password: password189\n",
      "ID: 4, Name: John Smith, Password: password189\n",
      "ID: 5, Name: John Doe, Password: password123\n",
      "ID: 6, Name: Peter Parker, Password: password189\n"
     ]
    }
   ],
   "source": [
    "# read all users from the database\n",
    "users = session.query(User).all()\n",
    "for user in users:\n",
    "    print(f'ID: {user.id}, Name: {user.name}, Password: {user.password}')"
   ]
  },
  {
   "cell_type": "code",
   "execution_count": 10,
   "id": "1d61d024",
   "metadata": {},
   "outputs": [],
   "source": [
    "# update a user in the database\n",
    "user_to_update = session.query(User).filter_by(name='John Doe').first() # first() returns the first result of the query\n",
    "user.name = 'John Smith' #update the name of the year\n",
    "session.commit() # commit the changes to the database"
   ]
  },
  {
   "cell_type": "code",
   "execution_count": 11,
   "id": "27647d3b",
   "metadata": {},
   "outputs": [
    {
     "ename": "UnmappedInstanceError",
     "evalue": "Class 'builtins.NoneType' is not mapped",
     "output_type": "error",
     "traceback": [
      "\u001b[1;31m---------------------------------------------------------------------------\u001b[0m",
      "\u001b[1;31mAttributeError\u001b[0m                            Traceback (most recent call last)",
      "File \u001b[1;32mc:\\Users\\sarit\\miniconda3\\Lib\\site-packages\\sqlalchemy\\orm\\session.py:3538\u001b[0m, in \u001b[0;36mSession.delete\u001b[1;34m(self, instance)\u001b[0m\n\u001b[0;32m   3537\u001b[0m \u001b[38;5;28;01mtry\u001b[39;00m:\n\u001b[1;32m-> 3538\u001b[0m     state \u001b[38;5;241m=\u001b[39m \u001b[43mattributes\u001b[49m\u001b[38;5;241;43m.\u001b[39;49m\u001b[43minstance_state\u001b[49m\u001b[43m(\u001b[49m\u001b[43minstance\u001b[49m\u001b[43m)\u001b[49m\n\u001b[0;32m   3539\u001b[0m \u001b[38;5;28;01mexcept\u001b[39;00m exc\u001b[38;5;241m.\u001b[39mNO_STATE \u001b[38;5;28;01mas\u001b[39;00m err:\n",
      "\u001b[1;31mAttributeError\u001b[0m: 'NoneType' object has no attribute '_sa_instance_state'",
      "\nThe above exception was the direct cause of the following exception:\n",
      "\u001b[1;31mUnmappedInstanceError\u001b[0m                     Traceback (most recent call last)",
      "Cell \u001b[1;32mIn[11], line 2\u001b[0m\n\u001b[0;32m      1\u001b[0m user \u001b[38;5;241m=\u001b[39m session\u001b[38;5;241m.\u001b[39mquery(User)\u001b[38;5;241m.\u001b[39mfilter_by(\u001b[38;5;28mid\u001b[39m\u001b[38;5;241m=\u001b[39m\u001b[38;5;241m1\u001b[39m)\u001b[38;5;241m.\u001b[39mfirst()\n\u001b[1;32m----> 2\u001b[0m \u001b[43msession\u001b[49m\u001b[38;5;241;43m.\u001b[39;49m\u001b[43mdelete\u001b[49m\u001b[43m(\u001b[49m\u001b[43muser\u001b[49m\u001b[43m)\u001b[49m \n\u001b[0;32m      3\u001b[0m session\u001b[38;5;241m.\u001b[39mcommit() \n",
      "File \u001b[1;32mc:\\Users\\sarit\\miniconda3\\Lib\\site-packages\\sqlalchemy\\orm\\session.py:3540\u001b[0m, in \u001b[0;36mSession.delete\u001b[1;34m(self, instance)\u001b[0m\n\u001b[0;32m   3538\u001b[0m     state \u001b[38;5;241m=\u001b[39m attributes\u001b[38;5;241m.\u001b[39minstance_state(instance)\n\u001b[0;32m   3539\u001b[0m \u001b[38;5;28;01mexcept\u001b[39;00m exc\u001b[38;5;241m.\u001b[39mNO_STATE \u001b[38;5;28;01mas\u001b[39;00m err:\n\u001b[1;32m-> 3540\u001b[0m     \u001b[38;5;28;01mraise\u001b[39;00m exc\u001b[38;5;241m.\u001b[39mUnmappedInstanceError(instance) \u001b[38;5;28;01mfrom\u001b[39;00m \u001b[38;5;21;01merr\u001b[39;00m\n\u001b[0;32m   3542\u001b[0m \u001b[38;5;28mself\u001b[39m\u001b[38;5;241m.\u001b[39m_delete_impl(state, instance, head\u001b[38;5;241m=\u001b[39m\u001b[38;5;28;01mTrue\u001b[39;00m)\n",
      "\u001b[1;31mUnmappedInstanceError\u001b[0m: Class 'builtins.NoneType' is not mapped"
     ]
    }
   ],
   "source": [
    "user = session.query(User).filter_by(id=1).first()\n",
    "session.delete(user) \n",
    "session.commit() "
   ]
  },
  {
   "cell_type": "code",
   "execution_count": 12,
   "id": "e4eeb7c7",
   "metadata": {},
   "outputs": [
    {
     "name": "stdout",
     "output_type": "stream",
     "text": [
      "ID: 2, Name: John Doe, Password: password123\n",
      "ID: 3, Name: Peter, Password: password189\n",
      "ID: 4, Name: John Smith, Password: password189\n",
      "ID: 5, Name: John Doe, Password: password123\n",
      "ID: 6, Name: John Smith, Password: password189\n"
     ]
    }
   ],
   "source": [
    "users = session.query(User).all()\n",
    "for user in users:\n",
    "    print(f'ID: {user.id}, Name: {user.name}, Password: {user.password}')"
   ]
  },
  {
   "cell_type": "code",
   "execution_count": null,
   "id": "17a63f95",
   "metadata": {},
   "outputs": [],
   "source": []
  },
  {
   "cell_type": "code",
   "execution_count": null,
   "id": "83e577c8",
   "metadata": {},
   "outputs": [],
   "source": []
  }
 ],
 "metadata": {
  "kernelspec": {
   "display_name": "base",
   "language": "python",
   "name": "python3"
  },
  "language_info": {
   "codemirror_mode": {
    "name": "ipython",
    "version": 3
   },
   "file_extension": ".py",
   "mimetype": "text/x-python",
   "name": "python",
   "nbconvert_exporter": "python",
   "pygments_lexer": "ipython3",
   "version": "3.12.9"
  }
 },
 "nbformat": 4,
 "nbformat_minor": 5
}
