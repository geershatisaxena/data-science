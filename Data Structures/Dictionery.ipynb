{
 "cells": [
  {
   "cell_type": "code",
   "execution_count": 1,
   "metadata": {},
   "outputs": [
    {
     "name": "stdout",
     "output_type": "stream",
     "text": [
      "{'name': 'Geershati', 'age': 20, 'class': 'Python', 'marks': 80}\n"
     ]
    }
   ],
   "source": [
    "student = {'name':'Geershati',\n",
    "'age':20,\n",
    "'class':\"Python\",\n",
    "'marks':80}\n",
    "print(student)"
   ]
  },
  {
   "cell_type": "code",
   "execution_count": 2,
   "metadata": {},
   "outputs": [
    {
     "name": "stdout",
     "output_type": "stream",
     "text": [
      "{'lucknow': [32, 25, 43], 'kanpur': [42, 40, 38], 'delhi': [21, 28, 40]}\n"
     ]
    }
   ],
   "source": [
    "temp ={\n",
    "    'lucknow':[32,25,43],\n",
    "    'kanpur':[42,40,38],\n",
    "    'delhi':[21,28,40],\n",
    "    }\n",
    "print(temp)"
   ]
  },
  {
   "cell_type": "code",
   "execution_count": 3,
   "metadata": {},
   "outputs": [
    {
     "name": "stdout",
     "output_type": "stream",
     "text": [
      "{'name': 'Geershati', 'age': 20, 'course': 'Python', 'marks': 90}\n"
     ]
    }
   ],
   "source": [
    "info = dict(name = 'Geershati',age = 20,course = 'Python',marks = 90)\n",
    "print(info)"
   ]
  },
  {
   "cell_type": "code",
   "execution_count": 4,
   "metadata": {},
   "outputs": [
    {
     "name": "stdout",
     "output_type": "stream",
     "text": [
      "{'name': 'Geershati', 'age': 20, 'course': 'Python', 'marks': 90}\n"
     ]
    }
   ],
   "source": [
    "info2 = dict(name = input(\"Enter your name:\"),age = 20 , course ='Python',marks= 90)\n",
    "print(info2)"
   ]
  },
  {
   "cell_type": "code",
   "execution_count": 5,
   "metadata": {},
   "outputs": [
    {
     "name": "stdout",
     "output_type": "stream",
     "text": [
      "Geershati\n"
     ]
    }
   ],
   "source": [
    "# first method to access its value using its key\n",
    "print(info['name'])"
   ]
  },
  {
   "cell_type": "code",
   "execution_count": 6,
   "metadata": {},
   "outputs": [
    {
     "name": "stdout",
     "output_type": "stream",
     "text": [
      "20\n"
     ]
    }
   ],
   "source": [
    "# second method to access its value using its key\n",
    "print(info.get('age'))"
   ]
  },
  {
   "cell_type": "code",
   "execution_count": 7,
   "metadata": {},
   "outputs": [
    {
     "name": "stdout",
     "output_type": "stream",
     "text": [
      "{'name': 'Geershati', 'age': 20, 'class': 'Python', 'marks': 80, 'city': 'lucknow'}\n"
     ]
    }
   ],
   "source": [
    "# to add a new pair in the dictionery\n",
    "student['city']='lucknow'\n",
    "print(student)"
   ]
  },
  {
   "cell_type": "code",
   "execution_count": 8,
   "metadata": {},
   "outputs": [
    {
     "name": "stdout",
     "output_type": "stream",
     "text": [
      "<built-in method keys of dict object at 0x00000177E7607400>\n",
      "dict_keys(['name', 'age', 'class', 'marks', 'city'])\n",
      "<built-in method values of dict object at 0x00000177E7607400>\n",
      "dict_values(['Geershati', 20, 'Python', 80, 'lucknow'])\n",
      "<built-in method items of dict object at 0x00000177E7607400>\n",
      "dict_items([('name', 'Geershati'), ('age', 20), ('class', 'Python'), ('marks', 80), ('city', 'lucknow')])\n"
     ]
    }
   ],
   "source": [
    "print(student.keys)\n",
    "print(student.keys())\n",
    "print(student.values)\n",
    "print(student.values())\n",
    "print(student.items)\n",
    "print(student.items())"
   ]
  },
  {
   "cell_type": "code",
   "execution_count": 9,
   "metadata": {},
   "outputs": [
    {
     "name": "stdout",
     "output_type": "stream",
     "text": [
      " name : Geershati\n",
      " age : 20\n",
      " class : Python\n",
      " marks : 80\n",
      " city : lucknow\n"
     ]
    }
   ],
   "source": [
    "for k,v in student.items():\n",
    "    print(f' {k} : {v}')"
   ]
  },
  {
   "cell_type": "code",
   "execution_count": 10,
   "metadata": {},
   "outputs": [
    {
     "name": "stdout",
     "output_type": "stream",
     "text": [
      "Sum is: 30\n",
      "Sum of 10 and 20 is 30\n",
      "sum of 10 and 20 is 30\n"
     ]
    }
   ],
   "source": [
    "a = 10\n",
    "b = 20\n",
    "c = a+b\n",
    "print('Sum is:',c)\n",
    "print('Sum of',a,'and',b,'is',c)\n",
    "print(f'sum of {a} and {b} is {c}')"
   ]
  },
  {
   "cell_type": "code",
   "execution_count": 11,
   "metadata": {},
   "outputs": [
    {
     "name": "stdout",
     "output_type": "stream",
     "text": [
      "{'emp1': {'name': 'John', 'salary': 250000, 'city': 'delhi'}, 'emp2': {'name': 'Karan', 'salary': 350000, 'city': 'kanpur'}, 'emp3': {'name': 'Rohan', 'salary': 450000, 'city': 'lucknow'}}\n"
     ]
    }
   ],
   "source": [
    "company = {\n",
    "    'emp1':{\n",
    "        'name':\"John\",\n",
    "        'salary':250000,\n",
    "        'city':\"delhi\"\n",
    "    },\n",
    "    'emp2':{\n",
    "        'name':\"Karan\",\n",
    "        'salary':350000,\n",
    "        'city':\"kanpur\"\n",
    "    },\n",
    "    'emp3':{\n",
    "        'name':\"Rohan\",\n",
    "        'salary':450000,\n",
    "        'city':\"lucknow\"\n",
    "    }\n",
    "}\n",
    "print(company)\n",
    "    \n"
   ]
  },
  {
   "cell_type": "code",
   "execution_count": 12,
   "metadata": {},
   "outputs": [],
   "source": [
    "from pprint import pprint"
   ]
  },
  {
   "cell_type": "code",
   "execution_count": 13,
   "metadata": {},
   "outputs": [
    {
     "name": "stdout",
     "output_type": "stream",
     "text": [
      "{'emp1': {'city': 'delhi', 'name': 'John', 'salary': 250000},\n",
      " 'emp2': {'city': 'kanpur', 'name': 'Karan', 'salary': 350000},\n",
      " 'emp3': {'city': 'lucknow', 'name': 'Rohan', 'salary': 450000}}\n"
     ]
    }
   ],
   "source": [
    "pprint(company)"
   ]
  },
  {
   "cell_type": "code",
   "execution_count": 14,
   "metadata": {},
   "outputs": [
    {
     "name": "stdout",
     "output_type": "stream",
     "text": [
      "Karan\n"
     ]
    }
   ],
   "source": [
    "print(company['emp2']['name'])"
   ]
  },
  {
   "cell_type": "code",
   "execution_count": 15,
   "metadata": {},
   "outputs": [
    {
     "name": "stdout",
     "output_type": "stream",
     "text": [
      "25\n"
     ]
    }
   ],
   "source": [
    "print(temp['lucknow'][1])"
   ]
  },
  {
   "cell_type": "code",
   "execution_count": 16,
   "metadata": {},
   "outputs": [
    {
     "name": "stdout",
     "output_type": "stream",
     "text": [
      "average temp in lucknow: 33.333333333333336\n"
     ]
    }
   ],
   "source": [
    "print('average temp in lucknow:',sum(temp['lucknow'])/len(temp['lucknow']))"
   ]
  },
  {
   "cell_type": "code",
   "execution_count": 17,
   "metadata": {},
   "outputs": [
    {
     "name": "stdout",
     "output_type": "stream",
     "text": [
      "The created dictionery is\n",
      "{1: 25, 2: 85, 3: 65, 4: 55}\n"
     ]
    }
   ],
   "source": [
    "rno=[]\n",
    "mks = []\n",
    "for a in range(4):\n",
    "    r,m = eval(input(\"Enter roll no., Marks:\"))\n",
    "    rno.append(r)\n",
    "    mks.append(m)\n",
    "d = {rno[0]:mks[0],rno[1]:mks[1],rno[2]:mks[2],rno[3]:mks[3]}\n",
    "print(\"The created dictionery is\")\n",
    "print(d)"
   ]
  },
  {
   "cell_type": "code",
   "execution_count": 18,
   "metadata": {},
   "outputs": [
    {
     "data": {
      "text/plain": [
       "dict_keys([1, 2, 3, 4])"
      ]
     },
     "execution_count": 18,
     "metadata": {},
     "output_type": "execute_result"
    }
   ],
   "source": [
    "d.keys()"
   ]
  },
  {
   "cell_type": "code",
   "execution_count": 19,
   "metadata": {},
   "outputs": [
    {
     "name": "stdout",
     "output_type": "stream",
     "text": [
      "Madhav : 8382832382\n",
      "Seteven : 8982932983\n",
      "Diljit : 98272832378\n",
      "Aman : 62782837892\n",
      "Rabiya : 38989292723\n",
      "Sampree : 8982827843\n",
      "Roma : 9838827389749\n"
     ]
    }
   ],
   "source": [
    "PhonDict = {\"Madhav\":8382832382,\"Seteven\":8982932983,\"Diljit\":98272832378,\"Aman\":62782837892,\"Rabiya\":38989292723,\"Sampree\":8982827843,\"Roma\":9838827389749}\n",
    "for name in PhonDict:\n",
    "    print(name,\":\",PhonDict[name])"
   ]
  },
  {
   "cell_type": "code",
   "execution_count": 20,
   "metadata": {},
   "outputs": [
    {
     "name": "stdout",
     "output_type": "stream",
     "text": [
      "States and their capital are : \n",
      "{'Andhra Pradesh': 'Amaravati', 'Arunachal Pradesh': 'Itanagar', 'Assam': 'Dispur', 'Bihar': 'Patna', 'Chhattisgarh': 'Raipur', 'Goa': 'Panaji', 'Gujarat': 'Gandhinagar', 'Haryana ': 'Chandigarh', 'Himachal Pradesh ': 'Shimla', 'Jharkhand': 'Ranchi', 'Karnataka': 'Bengaluru', 'Kerala': 'Thiruvanathapuram', 'Madhya Pradesh': 'Bhopal', 'Maharastra': 'Mumbai', 'Manipur': 'Imphal', 'Meghalaya': 'Shillong', 'Mizoram': 'Aizwal', 'Nagaland': 'Kohima', 'Odisha': 'Bhubaneshwar', 'Punjab': 'Chandigarh', 'Rajasthan': 'Jaipur', 'Sikkim': 'Gangtok', 'Tamil Nadu': 'Chennai', 'Telangana': 'Hyderabad', 'Tripura': 'Agartala', 'Uttar Pradesh': 'Lucknow', 'Uttarakhand ': 'Dehradun', 'West Bengal': 'Kolkata'}\n"
     ]
    }
   ],
   "source": [
    "a = {}\n",
    "n = int(input(\"How many states you want to store : \"))\n",
    "for i in range(n):\n",
    "    st = input(\"Enter the name of state : \")\n",
    "    cap = input(\"Enter the name of capital : \")\n",
    "    a[st] = cap\n",
    "print(\"States and their capital are : \")\n",
    "print(a)"
   ]
  },
  {
   "cell_type": "code",
   "execution_count": null,
   "metadata": {},
   "outputs": [],
   "source": []
  }
 ],
 "metadata": {
  "kernelspec": {
   "display_name": "base",
   "language": "python",
   "name": "python3"
  },
  "language_info": {
   "codemirror_mode": {
    "name": "ipython",
    "version": 3
   },
   "file_extension": ".py",
   "mimetype": "text/x-python",
   "name": "python",
   "nbconvert_exporter": "python",
   "pygments_lexer": "ipython3",
   "version": "3.12.9"
  }
 },
 "nbformat": 4,
 "nbformat_minor": 2
}
