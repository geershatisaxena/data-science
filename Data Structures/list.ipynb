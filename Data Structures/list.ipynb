{
 "cells": [
  {
   "cell_type": "code",
   "execution_count": 7,
   "metadata": {},
   "outputs": [
    {
     "name": "stdout",
     "output_type": "stream",
     "text": [
      "['microsoft', 'google', 'myntra', 'amazon', 'zomato', 'swiggy', 'flipkart', 'makemytrip', 'facebook', 'instagram', 'whatsapp', 'blinkit']\n"
     ]
    }
   ],
   "source": [
    "apps=[\"microsoft\",\"google\",\"myntra\",\"amazon\",\"zomato\",\"swiggy\",\"flipkart\",\"makemytrip\",\"facebook\",\"instagram\",\"whatsapp\",\"blinkit\"]\n",
    "print(apps)"
   ]
  },
  {
   "cell_type": "code",
   "execution_count": 8,
   "metadata": {},
   "outputs": [
    {
     "name": "stdout",
     "output_type": "stream",
     "text": [
      "makemytrip\n",
      "facebook\n"
     ]
    }
   ],
   "source": [
    "print(apps[7])\n",
    "print(apps[-4])"
   ]
  },
  {
   "cell_type": "code",
   "execution_count": 13,
   "metadata": {},
   "outputs": [
    {
     "name": "stdout",
     "output_type": "stream",
     "text": [
      "['myntra', 'amazon', 'zomato', 'swiggy', 'flipkart', 'makemytrip']\n",
      "['google', 'amazon', 'swiggy', 'makemytrip', 'instagram']\n",
      "['myntra', 'amazon', 'zomato', 'swiggy', 'flipkart', 'makemytrip', 'facebook', 'instagram', 'whatsapp', 'blinkit']\n",
      "['myntra', 'zomato', 'flipkart', 'facebook', 'whatsapp']\n",
      "['microsoft', 'google', 'myntra', 'amazon', 'zomato', 'swiggy', 'flipkart', 'makemytrip', 'facebook', 'instagram', 'whatsapp', 'blinkit']\n"
     ]
    }
   ],
   "source": [
    "print(apps[2:8])\n",
    "print(apps[1:10:2])\n",
    "print(apps[2:])\n",
    "print(apps[2::2])\n",
    "print(apps[:])"
   ]
  },
  {
   "cell_type": "markdown",
   "metadata": {},
   "source": [
    "### List Method\n",
    "- **append**-: to add an element at the end of the list.\n",
    "- **insert**-: to add an element at any specific position in the list.\n",
    "- **pop** -: to delete an item using the index position of the element.\n",
    "- **remove**-: to delete an item using its name.\n",
    "- **copy** -: to make a copy of the list.\n",
    "- **sort**-: to sort the items in any particular order.\n",
    "- **extend**-: to combine two list in on list.\n",
    "- **reverse**-: to reverse the order of the list.\n",
    "- **clear**-: to remove all the items of the list but not the list."
   ]
  },
  {
   "cell_type": "code",
   "execution_count": null,
   "metadata": {},
   "outputs": [
    {
     "name": "stdout",
     "output_type": "stream",
     "text": [
      "['microsoft', 'google', 'myntra', 'amazon', 'zomato', 'swiggy', 'flipkart', 'makemytrip', 'facebook', 'instagram', 'whatsapp', 'blinkit', 'Snapchat']\n"
     ]
    }
   ],
   "source": [
    "apps.append(\"Snapchat\") #to add an item\n",
    "print(apps)"
   ]
  },
  {
   "cell_type": "code",
   "execution_count": null,
   "metadata": {},
   "outputs": [
    {
     "name": "stdout",
     "output_type": "stream",
     "text": [
      "['microsoft', 'google', 'myntra', 'phonepe', 'amazon', 'zomato', 'swiggy', 'flipkart', 'makemytrip', 'facebook', 'instagram', 'whatsapp', 'blinkit', 'Snapchat']\n"
     ]
    }
   ],
   "source": [
    "apps.insert(3,\"phonepe\") # to add an item at a specific point\n",
    "print(apps)"
   ]
  },
  {
   "cell_type": "code",
   "execution_count": null,
   "metadata": {},
   "outputs": [
    {
     "data": {
      "text/plain": [
       "'amazon'"
      ]
     },
     "execution_count": 16,
     "metadata": {},
     "output_type": "execute_result"
    }
   ],
   "source": [
    "apps.pop(4) # to remove an app"
   ]
  },
  {
   "cell_type": "code",
   "execution_count": 17,
   "metadata": {},
   "outputs": [
    {
     "name": "stdout",
     "output_type": "stream",
     "text": [
      "['microsoft', 'google', 'myntra', 'phonepe', 'zomato', 'swiggy', 'flipkart', 'makemytrip', 'facebook', 'instagram', 'whatsapp', 'blinkit', 'Snapchat']\n"
     ]
    }
   ],
   "source": [
    "print(apps)"
   ]
  },
  {
   "cell_type": "code",
   "execution_count": 18,
   "metadata": {},
   "outputs": [
    {
     "name": "stdout",
     "output_type": "stream",
     "text": [
      "['microsoft', 'google', 'myntra', 'phonepe', 'zomato', 'flipkart', 'makemytrip', 'facebook', 'instagram', 'whatsapp', 'blinkit', 'Snapchat']\n"
     ]
    }
   ],
   "source": [
    "apps.remove(\"swiggy\")\n",
    "print(apps)"
   ]
  },
  {
   "cell_type": "code",
   "execution_count": 19,
   "metadata": {},
   "outputs": [
    {
     "name": "stdout",
     "output_type": "stream",
     "text": [
      "['microsoft', 'google', 'myntra', 'phonepe', 'zomato', 'flipkart', 'makemytrip', 'facebook', 'instagram', 'whatsapp', 'blinkit', 'Snapchat']\n"
     ]
    }
   ],
   "source": [
    "x = apps.copy()\n",
    "print(x)"
   ]
  },
  {
   "cell_type": "code",
   "execution_count": 21,
   "metadata": {},
   "outputs": [
    {
     "name": "stdout",
     "output_type": "stream",
     "text": [
      "[]\n"
     ]
    }
   ],
   "source": [
    "x.clear()\n",
    "print(x)"
   ]
  },
  {
   "cell_type": "code",
   "execution_count": 22,
   "metadata": {},
   "outputs": [
    {
     "name": "stdout",
     "output_type": "stream",
     "text": [
      "['Snapchat', 'blinkit', 'facebook', 'flipkart', 'google', 'instagram', 'makemytrip', 'microsoft', 'myntra', 'phonepe', 'whatsapp', 'zomato']\n"
     ]
    }
   ],
   "source": [
    "apps.sort()\n",
    "print(apps)\n"
   ]
  },
  {
   "cell_type": "code",
   "execution_count": 24,
   "metadata": {},
   "outputs": [
    {
     "name": "stdout",
     "output_type": "stream",
     "text": [
      "['zomato', 'whatsapp', 'phonepe', 'myntra', 'microsoft', 'makemytrip', 'instagram', 'google', 'flipkart', 'facebook', 'blinkit', 'Snapchat']\n"
     ]
    }
   ],
   "source": [
    "apps.reverse()\n",
    "print(apps)"
   ]
  },
  {
   "cell_type": "code",
   "execution_count": 25,
   "metadata": {},
   "outputs": [
    {
     "name": "stdout",
     "output_type": "stream",
     "text": [
      "['water', 'juice', 'milk']\n"
     ]
    }
   ],
   "source": [
    "apps2 = [\"water\",\"juice\",\"milk\"]\n",
    "apps.extend(apps2)\n",
    "print(apps2)"
   ]
  },
  {
   "cell_type": "code",
   "execution_count": 27,
   "metadata": {},
   "outputs": [
    {
     "name": "stdout",
     "output_type": "stream",
     "text": [
      "['zomato', 'whatsapp', 'phonepe', 'myntra', 'microsoft', 'makemytrip', 'instagram', 'google', 'flipkart', 'facebook', 'blinkit', 'Snapchat', 'water', 'juice', 'milk']\n"
     ]
    }
   ],
   "source": [
    "print(apps)"
   ]
  },
  {
   "cell_type": "code",
   "execution_count": 28,
   "metadata": {},
   "outputs": [
    {
     "name": "stdout",
     "output_type": "stream",
     "text": [
      "['water', 'juice', 'milk', 'zomato', 'whatsapp', 'phonepe', 'myntra', 'microsoft', 'makemytrip', 'instagram', 'google', 'flipkart', 'facebook', 'blinkit', 'Snapchat', 'water', 'juice', 'milk']\n"
     ]
    }
   ],
   "source": [
    "apps2.extend(apps)\n",
    "print(apps2)"
   ]
  },
  {
   "cell_type": "code",
   "execution_count": 6,
   "metadata": {},
   "outputs": [
    {
     "name": "stdout",
     "output_type": "stream",
     "text": [
      "Sum of natural numbers <=  10 is 55\n"
     ]
    }
   ],
   "source": [
    "sum = 0 \n",
    "for i in range(1,11):\n",
    "    sum += i\n",
    "print(\"Sum of natural numbers <= \",i,\"is\",sum)"
   ]
  },
  {
   "cell_type": "code",
   "execution_count": 7,
   "metadata": {},
   "outputs": [
    {
     "name": "stdout",
     "output_type": "stream",
     "text": [
      "5 1\n",
      "5 3\n",
      "9 1\n",
      "9 3\n",
      "9 5\n",
      "9 7\n",
      "13 1\n",
      "13 3\n",
      "13 5\n",
      "13 7\n",
      "13 9\n",
      "13 11\n",
      "17 1\n",
      "17 3\n",
      "17 5\n",
      "17 7\n",
      "17 9\n",
      "17 11\n",
      "17 13\n",
      "17 15\n",
      "21 1\n",
      "21 3\n",
      "21 5\n",
      "21 7\n",
      "21 9\n",
      "21 11\n",
      "21 13\n",
      "21 15\n",
      "21 17\n",
      "21 19\n"
     ]
    }
   ],
   "source": [
    "for outer in range(5,25,4):\n",
    "    for inner in range(1,outer,2):\n",
    "        print(outer,inner) "
   ]
  },
  {
   "cell_type": "code",
   "execution_count": null,
   "metadata": {},
   "outputs": [
    {
     "name": "stdout",
     "output_type": "stream",
     "text": [
      "***************\n"
     ]
    }
   ],
   "source": []
  },
  {
   "cell_type": "code",
   "execution_count": null,
   "metadata": {},
   "outputs": [],
   "source": []
  }
 ],
 "metadata": {
  "kernelspec": {
   "display_name": "base",
   "language": "python",
   "name": "python3"
  },
  "language_info": {
   "codemirror_mode": {
    "name": "ipython",
    "version": 3
   },
   "file_extension": ".py",
   "mimetype": "text/x-python",
   "name": "python",
   "nbconvert_exporter": "python",
   "pygments_lexer": "ipython3",
   "version": "3.12.9"
  }
 },
 "nbformat": 4,
 "nbformat_minor": 2
}
