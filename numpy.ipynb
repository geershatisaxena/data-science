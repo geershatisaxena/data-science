{
 "cells": [
  {
   "cell_type": "markdown",
   "metadata": {},
   "source": [
    "# Numpy is a library that allows for the use of arrays and matrices"
   ]
  },
  {
   "cell_type": "code",
   "execution_count": 36,
   "metadata": {},
   "outputs": [],
   "source": [
    "import numpy as np"
   ]
  },
  {
   "cell_type": "code",
   "execution_count": 37,
   "metadata": {},
   "outputs": [
    {
     "name": "stdout",
     "output_type": "stream",
     "text": [
      "[1 2 3]\n",
      "[4 5 6]\n"
     ]
    }
   ],
   "source": [
    "a = np.array([1,2,3])\n",
    "b = np.array([4,5,6])\n",
    "print(a)\n",
    "print(b)"
   ]
  },
  {
   "cell_type": "code",
   "execution_count": 38,
   "metadata": {},
   "outputs": [
    {
     "data": {
      "text/plain": [
       "numpy.ndarray"
      ]
     },
     "execution_count": 38,
     "metadata": {},
     "output_type": "execute_result"
    }
   ],
   "source": [
    "type(a)\n",
    "type(b)"
   ]
  },
  {
   "cell_type": "code",
   "execution_count": 39,
   "metadata": {},
   "outputs": [
    {
     "name": "stdout",
     "output_type": "stream",
     "text": [
      "[5 7 9]\n",
      "[-3 -3 -3]\n",
      "[ 4 10 18]\n",
      "[0.25 0.4  0.5 ]\n"
     ]
    }
   ],
   "source": [
    "print(a+b)\n",
    "print(a-b)\n",
    "print(a*b)\n",
    "print(a/b)"
   ]
  },
  {
   "cell_type": "markdown",
   "metadata": {},
   "source": [
    "Creating a 2D array"
   ]
  },
  {
   "cell_type": "code",
   "execution_count": 40,
   "metadata": {},
   "outputs": [
    {
     "name": "stdout",
     "output_type": "stream",
     "text": [
      "[[1 2 3]\n",
      " [4 5 6]]\n"
     ]
    }
   ],
   "source": [
    "a = np.array([[1,2,3],[4,5,6]])\n",
    "print(a)"
   ]
  },
  {
   "cell_type": "markdown",
   "metadata": {},
   "source": [
    "Creating 3D arrays"
   ]
  },
  {
   "cell_type": "code",
   "execution_count": 41,
   "metadata": {},
   "outputs": [
    {
     "name": "stdout",
     "output_type": "stream",
     "text": [
      "[[1 2 3]\n",
      " [4 5 6]\n",
      " [7 8 9]]\n"
     ]
    }
   ],
   "source": [
    "b = np.array([[1,2,3],[4,5,6],[7,8,9]])\n",
    "print(b)"
   ]
  },
  {
   "cell_type": "markdown",
   "metadata": {},
   "source": [
    "Methods of array"
   ]
  },
  {
   "cell_type": "code",
   "execution_count": 42,
   "metadata": {},
   "outputs": [
    {
     "name": "stdout",
     "output_type": "stream",
     "text": [
      "int64\n"
     ]
    }
   ],
   "source": [
    "print(a.dtype)"
   ]
  },
  {
   "cell_type": "markdown",
   "metadata": {},
   "source": [
    "To get the number of dimensions of an array "
   ]
  },
  {
   "cell_type": "code",
   "execution_count": 43,
   "metadata": {},
   "outputs": [
    {
     "name": "stdout",
     "output_type": "stream",
     "text": [
      "2\n"
     ]
    }
   ],
   "source": [
    "print(a.ndim)"
   ]
  },
  {
   "cell_type": "code",
   "execution_count": 44,
   "metadata": {},
   "outputs": [
    {
     "name": "stdout",
     "output_type": "stream",
     "text": [
      "(2, 3)\n"
     ]
    }
   ],
   "source": [
    "print(a.shape)"
   ]
  },
  {
   "cell_type": "code",
   "execution_count": 45,
   "metadata": {},
   "outputs": [
    {
     "data": {
      "text/plain": [
       "array([ 0,  1,  2,  3,  4,  5,  6,  7,  8,  9, 10, 11, 12, 13, 14, 15, 16,\n",
       "       17, 18, 19, 20, 21, 22, 23, 24, 25, 26, 27, 28, 29])"
      ]
     },
     "execution_count": 45,
     "metadata": {},
     "output_type": "execute_result"
    }
   ],
   "source": [
    "np.arange(30)"
   ]
  },
  {
   "cell_type": "code",
   "execution_count": 46,
   "metadata": {},
   "outputs": [
    {
     "data": {
      "text/plain": [
       "array([ 2,  4,  6,  8, 10])"
      ]
     },
     "execution_count": 46,
     "metadata": {},
     "output_type": "execute_result"
    }
   ],
   "source": [
    "np.arange(2,11,2)"
   ]
  },
  {
   "cell_type": "code",
   "execution_count": 47,
   "metadata": {},
   "outputs": [
    {
     "data": {
      "text/plain": [
       "array([ 2,  3,  4,  5,  6,  7,  8,  9, 10, 11, 12, 13, 14, 15, 16, 17, 18,\n",
       "       19, 20, 21])"
      ]
     },
     "execution_count": 47,
     "metadata": {},
     "output_type": "execute_result"
    }
   ],
   "source": [
    "np.arange(2,22)"
   ]
  },
  {
   "cell_type": "code",
   "execution_count": 48,
   "metadata": {},
   "outputs": [
    {
     "data": {
      "text/plain": [
       "15"
      ]
     },
     "execution_count": 48,
     "metadata": {},
     "output_type": "execute_result"
    }
   ],
   "source": [
    "np.random.randint(10,30)"
   ]
  },
  {
   "cell_type": "code",
   "execution_count": 49,
   "metadata": {},
   "outputs": [
    {
     "data": {
      "text/plain": [
       "array([[0.90434715, 0.66664006, 0.48114136, 0.72011584, 0.74425533,\n",
       "        0.67887212, 0.01347026, 0.63788366, 0.92847813, 0.22402855,\n",
       "        0.79449014, 0.33122738, 0.38219391, 0.35506013, 0.72195121,\n",
       "        0.89296242, 0.48847702, 0.30889966, 0.40608455, 0.72508575,\n",
       "        0.41841057, 0.77341862, 0.68078088, 0.38370231, 0.28001088,\n",
       "        0.12920051, 0.93788478, 0.90148226, 0.54094952, 0.85660033],\n",
       "       [0.67116766, 0.6413212 , 0.13826197, 0.81534314, 0.10909285,\n",
       "        0.38352866, 0.17398476, 0.21710455, 0.11888166, 0.53656704,\n",
       "        0.96061333, 0.26020349, 0.68072357, 0.24588228, 0.07412329,\n",
       "        0.4698397 , 0.84062657, 0.15868639, 0.85973366, 0.20800815,\n",
       "        0.40209405, 0.70991646, 0.83057086, 0.9991223 , 0.45555396,\n",
       "        0.38443657, 0.13579001, 0.82270009, 0.92745461, 0.29647932],\n",
       "       [0.41613937, 0.55288455, 0.05418986, 0.18041389, 0.35741734,\n",
       "        0.52295362, 0.65740155, 0.09358839, 0.9724871 , 0.30967216,\n",
       "        0.07341891, 0.7577121 , 0.16640758, 0.82426091, 0.44734359,\n",
       "        0.54311328, 0.11297929, 0.36016255, 0.82240684, 0.21631871,\n",
       "        0.55993109, 0.07505796, 0.23034752, 0.3416742 , 0.70014021,\n",
       "        0.43636343, 0.20445376, 0.14777322, 0.26684892, 0.42817546],\n",
       "       [0.738835  , 0.13384386, 0.99105647, 0.42532988, 0.20862976,\n",
       "        0.42398433, 0.92605737, 0.48313243, 0.12253492, 0.88734806,\n",
       "        0.61331753, 0.71586014, 0.53104875, 0.72493201, 0.74596341,\n",
       "        0.84087435, 0.14255242, 0.41016125, 0.44081424, 0.08078325,\n",
       "        0.075184  , 0.8249577 , 0.80373805, 0.34597388, 0.32847842,\n",
       "        0.11732981, 0.16012405, 0.01481127, 0.11862133, 0.76701808],\n",
       "       [0.27305315, 0.54749806, 0.77119875, 0.23528529, 0.95845685,\n",
       "        0.38908016, 0.03772195, 0.32557557, 0.1986031 , 0.17790117,\n",
       "        0.11243504, 0.57067158, 0.16925434, 0.51608612, 0.04904197,\n",
       "        0.77350948, 0.58473116, 0.82576761, 0.50221518, 0.46792862,\n",
       "        0.67605944, 0.03151984, 0.12672124, 0.36650407, 0.86366801,\n",
       "        0.10278749, 0.36424289, 0.72237276, 0.4132807 , 0.19981374],\n",
       "       [0.42549502, 0.10589787, 0.79814174, 0.96852983, 0.49070346,\n",
       "        0.76733789, 0.42565858, 0.35893258, 0.15567882, 0.45176499,\n",
       "        0.20292195, 0.44258432, 0.24082728, 0.37496767, 0.65924755,\n",
       "        0.07071105, 0.18721097, 0.73248892, 0.43445422, 0.90578036,\n",
       "        0.55308522, 0.40234869, 0.03131723, 0.06452247, 0.96952269,\n",
       "        0.0497077 , 0.26078664, 0.12871781, 0.98457419, 0.92463687],\n",
       "       [0.77565331, 0.047363  , 0.66950758, 0.22819137, 0.97530939,\n",
       "        0.09223424, 0.23043222, 0.66317165, 0.89308654, 0.39122221,\n",
       "        0.37142916, 0.26327806, 0.56007485, 0.37349449, 0.50843306,\n",
       "        0.35414526, 0.14799524, 0.59893654, 0.68181497, 0.60617932,\n",
       "        0.61534904, 0.28988545, 0.80166983, 0.0284966 , 0.99818942,\n",
       "        0.48870886, 0.37321086, 0.50517337, 0.57872242, 0.86389173],\n",
       "       [0.13644875, 0.8439755 , 0.82113104, 0.17635038, 0.83033275,\n",
       "        0.76692037, 0.42039483, 0.46270756, 0.99303306, 0.35442203,\n",
       "        0.45856763, 0.97153628, 0.6367486 , 0.96848447, 0.56146708,\n",
       "        0.70285241, 0.41911606, 0.80666665, 0.79288479, 0.34537796,\n",
       "        0.58099295, 0.38132486, 0.56683118, 0.65427283, 0.79711206,\n",
       "        0.04209539, 0.98786494, 0.19769128, 0.21311114, 0.95398314],\n",
       "       [0.86523247, 0.95107796, 0.78378039, 0.00643861, 0.71283098,\n",
       "        0.87092792, 0.48806897, 0.82951657, 0.41106274, 0.44289197,\n",
       "        0.26829092, 0.48030286, 0.83930942, 0.11526246, 0.65221795,\n",
       "        0.90449898, 0.14526257, 0.63234224, 0.68590304, 0.38907416,\n",
       "        0.4506103 , 0.07429204, 0.97413849, 0.96210155, 0.2749267 ,\n",
       "        0.45319309, 0.35710081, 0.40273041, 0.28040543, 0.05476411],\n",
       "       [0.5249934 , 0.89489884, 0.21649909, 0.6169463 , 0.37149413,\n",
       "        0.06379545, 0.79706201, 0.0050806 , 0.14006432, 0.07373794,\n",
       "        0.81820964, 0.17640251, 0.51193277, 0.73041633, 0.26778111,\n",
       "        0.72239792, 0.32606608, 0.44587089, 0.31837361, 0.53090905,\n",
       "        0.10979145, 0.5646436 , 0.16735588, 0.51656026, 0.69115497,\n",
       "        0.94564827, 0.1617591 , 0.08624739, 0.58560219, 0.87139647]])"
      ]
     },
     "execution_count": 49,
     "metadata": {},
     "output_type": "execute_result"
    }
   ],
   "source": [
    "np.random.rand(10,30)"
   ]
  },
  {
   "cell_type": "code",
   "execution_count": 50,
   "metadata": {},
   "outputs": [
    {
     "data": {
      "text/plain": [
       "array([[23, 16, 12],\n",
       "       [25, 21, 10],\n",
       "       [27, 12, 21]], dtype=int32)"
      ]
     },
     "execution_count": 50,
     "metadata": {},
     "output_type": "execute_result"
    }
   ],
   "source": [
    "np.random.randint(10,30, size=(3,3))"
   ]
  },
  {
   "cell_type": "code",
   "execution_count": 51,
   "metadata": {},
   "outputs": [
    {
     "name": "stdout",
     "output_type": "stream",
     "text": [
      "[[7 2 3]\n",
      " [2 5 2]\n",
      " [3 5 1]]\n",
      "[[1 8 3]\n",
      " [3 7 2]\n",
      " [2 5 3]]\n"
     ]
    }
   ],
   "source": [
    "x = np.array([[7,2,3],[2,5,2],[3,5,1]])\n",
    "y = np.array([[1,8,3],[3,7,2],[2,5,3]])\n",
    "print(x)\n",
    "print(y)"
   ]
  },
  {
   "cell_type": "markdown",
   "metadata": {},
   "source": [
    "Matrices Multiplication"
   ]
  },
  {
   "cell_type": "code",
   "execution_count": 52,
   "metadata": {},
   "outputs": [
    {
     "name": "stdout",
     "output_type": "stream",
     "text": [
      "[[19 85 34]\n",
      " [21 61 22]\n",
      " [20 64 22]]\n"
     ]
    }
   ],
   "source": [
    "print(x@y)"
   ]
  },
  {
   "cell_type": "code",
   "execution_count": 53,
   "metadata": {},
   "outputs": [
    {
     "name": "stdout",
     "output_type": "stream",
     "text": [
      "[[19 85 34]\n",
      " [21 61 22]\n",
      " [20 64 22]]\n"
     ]
    }
   ],
   "source": [
    "print(x.dot(y))"
   ]
  },
  {
   "cell_type": "code",
   "execution_count": 54,
   "metadata": {},
   "outputs": [
    {
     "data": {
      "text/plain": [
       "np.int64(12600)"
      ]
     },
     "execution_count": 54,
     "metadata": {},
     "output_type": "execute_result"
    }
   ],
   "source": [
    "x.prod()"
   ]
  },
  {
   "cell_type": "code",
   "execution_count": 55,
   "metadata": {},
   "outputs": [
    {
     "data": {
      "text/plain": [
       "np.float64(3.3333333333333335)"
      ]
     },
     "execution_count": 55,
     "metadata": {},
     "output_type": "execute_result"
    }
   ],
   "source": [
    "x.mean()"
   ]
  },
  {
   "cell_type": "code",
   "execution_count": 56,
   "metadata": {},
   "outputs": [
    {
     "data": {
      "text/plain": [
       "array([4., 4., 2.])"
      ]
     },
     "execution_count": 56,
     "metadata": {},
     "output_type": "execute_result"
    }
   ],
   "source": [
    "x.mean(axis=0)"
   ]
  },
  {
   "cell_type": "code",
   "execution_count": 57,
   "metadata": {},
   "outputs": [
    {
     "data": {
      "text/plain": [
       "array([4., 3., 3.])"
      ]
     },
     "execution_count": 57,
     "metadata": {},
     "output_type": "execute_result"
    }
   ],
   "source": [
    "x.mean(axis=1)"
   ]
  },
  {
   "cell_type": "code",
   "execution_count": 59,
   "metadata": {},
   "outputs": [
    {
     "name": "stdout",
     "output_type": "stream",
     "text": [
      "30\n",
      "3.3333333333333335\n",
      "1.8257418583505538\n"
     ]
    }
   ],
   "source": [
    "print(x.sum())\n",
    "print(x.var())\n",
    "print(x.std())"
   ]
  },
  {
   "cell_type": "code",
   "execution_count": 61,
   "metadata": {},
   "outputs": [
    {
     "name": "stdout",
     "output_type": "stream",
     "text": [
      "3.0\n",
      "5.0\n",
      "7.0\n"
     ]
    }
   ],
   "source": [
    "z = np.array([1,2,3,4,5,6,7,8,9])\n",
    "print(np.percentile(z, 25)) #25th percentile\n",
    "print(np.percentile(z, 50)) #50th percentile\n",
    "print(np.percentile(z, 75)) #75th percentile"
   ]
  },
  {
   "cell_type": "code",
   "execution_count": 64,
   "metadata": {},
   "outputs": [
    {
     "name": "stdout",
     "output_type": "stream",
     "text": [
      "[[18 30 46 20 18 44 15 32 40 35 24 30 42 22]\n",
      " [37 26 25 31 36 13 36 24 24 37 47 30 21 27]\n",
      " [15 39 33 41 47 16 48 28 18 19 26 27 34 24]\n",
      " [44 31 33 49 41 15 39 45 12 22 31 45 23 38]\n",
      " [28 42 45 13 46 39 22 31 17 34 25 23 32 18]\n",
      " [29 15 38 19 25 20 44 22 47 32 36 30 19 18]\n",
      " [29 42 43 39 42 29 31 28 23 11 47 49 18 43]\n",
      " [15 14 36 22 11 15 31 41 39 30 10 24 20 30]\n",
      " [29 40 14 36 11 30 21 18 32 30 48 39 32 20]\n",
      " [44 35 39 27 20 49 12 13 21 10 14 20 39 20]\n",
      " [26 25 12 40 11 17 49 18 42 22 24 10 11 34]\n",
      " [47 37 15 32 17 16 11 48 13 43 13 28 26 49]\n",
      " [49 20 37 20 15 36 49 49 11 37 28 44 49 40]\n",
      " [10 35 27 26 11 26 43 23 41 28 33 19 14 23]]\n"
     ]
    }
   ],
   "source": [
    "arr = np.random.randint(10,50, size=(14,14))\n",
    "print(arr)"
   ]
  },
  {
   "cell_type": "code",
   "execution_count": 68,
   "metadata": {},
   "outputs": [
    {
     "name": "stdout",
     "output_type": "stream",
     "text": [
      "2x8\n"
     ]
    },
    {
     "ename": "ValueError",
     "evalue": "cannot reshape array of size 196 into shape (2,8)",
     "output_type": "error",
     "traceback": [
      "\u001b[1;31m---------------------------------------------------------------------------\u001b[0m",
      "\u001b[1;31mValueError\u001b[0m                                Traceback (most recent call last)",
      "Cell \u001b[1;32mIn[68], line 2\u001b[0m\n\u001b[0;32m      1\u001b[0m \u001b[38;5;28mprint\u001b[39m(\u001b[38;5;124m'\u001b[39m\u001b[38;5;124m2x8\u001b[39m\u001b[38;5;124m'\u001b[39m)\n\u001b[1;32m----> 2\u001b[0m \u001b[38;5;28mprint\u001b[39m(\u001b[43marr\u001b[49m\u001b[38;5;241;43m.\u001b[39;49m\u001b[43mreshape\u001b[49m\u001b[43m(\u001b[49m\u001b[38;5;241;43m2\u001b[39;49m\u001b[43m,\u001b[49m\u001b[38;5;241;43m8\u001b[39;49m\u001b[43m)\u001b[49m)\n",
      "\u001b[1;31mValueError\u001b[0m: cannot reshape array of size 196 into shape (2,8)"
     ]
    }
   ],
   "source": [
    "print('2x8')\n",
    "print(arr.reshape(2,8))"
   ]
  },
  {
   "cell_type": "code",
   "execution_count": 69,
   "metadata": {},
   "outputs": [
    {
     "name": "stdout",
     "output_type": "stream",
     "text": [
      "[7 2 3]\n",
      "[2 5 2]\n"
     ]
    }
   ],
   "source": [
    "print(x[0])\n",
    "print(x[1])"
   ]
  },
  {
   "cell_type": "code",
   "execution_count": 70,
   "metadata": {},
   "outputs": [
    {
     "name": "stdout",
     "output_type": "stream",
     "text": [
      "7\n"
     ]
    }
   ],
   "source": [
    "print(x[0,0])"
   ]
  },
  {
   "cell_type": "code",
   "execution_count": 71,
   "metadata": {},
   "outputs": [
    {
     "name": "stdout",
     "output_type": "stream",
     "text": [
      "2\n"
     ]
    }
   ],
   "source": [
    "print(x[0,1])"
   ]
  },
  {
   "cell_type": "code",
   "execution_count": null,
   "metadata": {},
   "outputs": [],
   "source": []
  }
 ],
 "metadata": {
  "kernelspec": {
   "display_name": "base",
   "language": "python",
   "name": "python3"
  },
  "language_info": {
   "codemirror_mode": {
    "name": "ipython",
    "version": 3
   },
   "file_extension": ".py",
   "mimetype": "text/x-python",
   "name": "python",
   "nbconvert_exporter": "python",
   "pygments_lexer": "ipython3",
   "version": "3.12.9"
  }
 },
 "nbformat": 4,
 "nbformat_minor": 2
}
